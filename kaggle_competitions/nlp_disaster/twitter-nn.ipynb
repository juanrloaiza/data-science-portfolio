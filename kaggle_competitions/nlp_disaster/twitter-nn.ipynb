{
 "cells": [
  {
   "cell_type": "code",
   "execution_count": 1,
   "id": "66ddc4dd-0209-466f-ae80-ed899aa93381",
   "metadata": {},
   "outputs": [
    {
     "name": "stderr",
     "output_type": "stream",
     "text": [
      "2021-09-18 23:00:47.366654: W tensorflow/stream_executor/platform/default/dso_loader.cc:64] Could not load dynamic library 'libcudart.so.11.0'; dlerror: libcudart.so.11.0: cannot open shared object file: No such file or directory\n",
      "2021-09-18 23:00:47.366681: I tensorflow/stream_executor/cuda/cudart_stub.cc:29] Ignore above cudart dlerror if you do not have a GPU set up on your machine.\n"
     ]
    }
   ],
   "source": [
    "import tensorflow as tf\n",
    "from tensorflow import keras\n",
    "\n",
    "import pandas as pd\n",
    "import numpy as np\n",
    "import seaborn as sns\n",
    "import matplotlib.pyplot as plt"
   ]
  },
  {
   "cell_type": "code",
   "execution_count": 2,
   "id": "2aac4157-fd8c-4dbb-b244-c58349e0fac5",
   "metadata": {},
   "outputs": [],
   "source": [
    "train_df = pd.read_csv('train.csv')"
   ]
  },
  {
   "cell_type": "code",
   "execution_count": 3,
   "id": "0bd20e5d-b538-4021-91fd-9339e97b07cb",
   "metadata": {},
   "outputs": [],
   "source": [
    "from nltk.corpus import stopwords\n",
    "\n",
    "stops = stopwords.words('english')\n",
    "\n",
    "train_df['text'] = train_df['text'].apply(lambda x: ' '.join([w for w in x.split(' ') if w.lower() not in stops]))"
   ]
  },
  {
   "cell_type": "code",
   "execution_count": 4,
   "id": "b8c9ba9e-61dc-44eb-a844-c55c75ddec59",
   "metadata": {},
   "outputs": [],
   "source": [
    "from sklearn.model_selection import train_test_split\n",
    "\n",
    "X = train_df['text']\n",
    "y = train_df['target']"
   ]
  },
  {
   "cell_type": "code",
   "execution_count": 44,
   "id": "ad8cae30-61ae-4e02-ac2a-da94bdb24220",
   "metadata": {},
   "outputs": [
    {
     "data": {
      "text/plain": [
       "52"
      ]
     },
     "execution_count": 44,
     "metadata": {},
     "output_type": "execute_result"
    }
   ],
   "source": [
    "output_size = max(X.map(lambda x: len(x.split(' '))))\n",
    "output_size"
   ]
  },
  {
   "cell_type": "markdown",
   "id": "c0137868-e90b-4c44-98c4-a97975fb1b3e",
   "metadata": {
    "tags": []
   },
   "source": [
    "## Building a neural network"
   ]
  },
  {
   "cell_type": "code",
   "execution_count": 45,
   "id": "452d8400-994a-4071-8587-bb92d7261a4a",
   "metadata": {},
   "outputs": [],
   "source": [
    "from tensorflow.keras import layers\n",
    "\n",
    "max_words = 10000\n",
    "\n",
    "vectorizing_layer = layers.experimental.preprocessing.TextVectorization(max_tokens = max_words,\n",
    "                                                                       output_mode='int',\n",
    "                                                                       output_sequence_length=output_size)\n",
    "vectorizing_layer.adapt(X)"
   ]
  },
  {
   "cell_type": "code",
   "execution_count": 54,
   "id": "39b07ac6-e747-4650-b1dc-3c1613b72726",
   "metadata": {},
   "outputs": [],
   "source": [
    "model = tf.keras.models.Sequential()\n",
    "\n",
    "model.add(tf.keras.Input(shape=(None,), dtype = tf.string))\n",
    "model.add(vectorizing_layer)\n",
    "\n",
    "model.add(layers.Embedding(max_words, 5)) # We use an embedding layer to transform data from 1000 word tokens to 32 inputs to the next layer.\n",
    "\n",
    "model.add(tf.keras.layers.Bidirectional(tf.keras.layers.LSTM(5, dropout = 0.2)))\n",
    "\n",
    "model.add(layers.Dense(1, activation=\"sigmoid\", name=\"predictions\"))\n",
    "\n",
    "model.compile(optimizer = 'Adam',\n",
    "             loss = keras.losses.BinaryCrossentropy(),\n",
    "             metrics = ['accuracy'])"
   ]
  },
  {
   "cell_type": "code",
   "execution_count": 55,
   "id": "f1a05277-2cb2-4ce3-8a7b-dfab623aed0a",
   "metadata": {},
   "outputs": [
    {
     "name": "stdout",
     "output_type": "stream",
     "text": [
      "Epoch 1/10\n",
      "255/255 [==============================] - 7s 21ms/step - loss: 0.6664 - accuracy: 0.5810 - val_loss: 0.6451 - val_accuracy: 0.5937\n",
      "Epoch 2/10\n",
      "255/255 [==============================] - 5s 19ms/step - loss: 0.5197 - accuracy: 0.7712 - val_loss: 0.5188 - val_accuracy: 0.7620\n",
      "Epoch 3/10\n",
      "255/255 [==============================] - 5s 19ms/step - loss: 0.3697 - accuracy: 0.8567 - val_loss: 0.4947 - val_accuracy: 0.7760\n",
      "Epoch 4/10\n",
      "255/255 [==============================] - 5s 20ms/step - loss: 0.2914 - accuracy: 0.8959 - val_loss: 0.5011 - val_accuracy: 0.7581\n",
      "Epoch 5/10\n",
      "255/255 [==============================] - 5s 20ms/step - loss: 0.2357 - accuracy: 0.9190 - val_loss: 0.5276 - val_accuracy: 0.7585\n",
      "Epoch 6/10\n",
      "255/255 [==============================] - 5s 20ms/step - loss: 0.1949 - accuracy: 0.9355 - val_loss: 0.5651 - val_accuracy: 0.7513\n",
      "Epoch 7/10\n",
      "255/255 [==============================] - 5s 20ms/step - loss: 0.1644 - accuracy: 0.9457 - val_loss: 0.6185 - val_accuracy: 0.7489\n",
      "Epoch 8/10\n",
      "255/255 [==============================] - 5s 20ms/step - loss: 0.1444 - accuracy: 0.9520 - val_loss: 0.6479 - val_accuracy: 0.7338\n",
      "Epoch 9/10\n",
      "255/255 [==============================] - 5s 20ms/step - loss: 0.1280 - accuracy: 0.9600 - val_loss: 0.6947 - val_accuracy: 0.7258\n",
      "Epoch 10/10\n",
      "255/255 [==============================] - 5s 20ms/step - loss: 0.1162 - accuracy: 0.9637 - val_loss: 0.7486 - val_accuracy: 0.7326\n"
     ]
    }
   ],
   "source": [
    "epochs = 10\n",
    "results = model.fit(X, y, epochs=epochs, validation_split=0.33, batch_size=20)"
   ]
  },
  {
   "cell_type": "code",
   "execution_count": 56,
   "id": "eb63d573-c235-4bb3-be28-a4e52b9ff973",
   "metadata": {},
   "outputs": [
    {
     "data": {
      "text/plain": [
       "Text(0.5, 1.0, 'Accuracy')"
      ]
     },
     "execution_count": 56,
     "metadata": {},
     "output_type": "execute_result"
    },
    {
     "data": {
      "image/png": "[encoded data removed]",
      "text/plain": [
       "<Figure size 432x288 with 1 Axes>"
      ]
     },
     "metadata": {
      "needs_background": "light"
     },
     "output_type": "display_data"
    },
    {
     "data": {
      "image/png": "[encoded data removed]",
      "text/plain": [
       "<Figure size 432x288 with 1 Axes>"
      ]
     },
     "metadata": {
      "needs_background": "light"
     },
     "output_type": "display_data"
    }
   ],
   "source": [
    "plt.figure()\n",
    "sns.lineplot(x = range(0, epochs), y = results.history['loss'], color = 'red', label = \"Training\")\n",
    "sns.lineplot(x = range(0, epochs), y = results.history['val_loss'], color = 'darkred', label = \"Validation\")\n",
    "plt.title(\"Losses\")\n",
    "\n",
    "plt.figure()\n",
    "sns.lineplot(x = range(0, epochs), y = results.history['accuracy'], color = 'blue', label = \"Training\")\n",
    "sns.lineplot(x = range(0, epochs), y = results.history['val_accuracy'], color = 'darkblue', label = \"Validation\")\n",
    "plt.title(\"Accuracy\")"
   ]
  },
  {
   "cell_type": "markdown",
   "id": "bb85a6d5-4491-40e2-99db-8c5b3a73d957",
   "metadata": {},
   "source": [
    "# Submitting predictions"
   ]
  },
  {
   "cell_type": "code",
   "execution_count": 57,
   "id": "18513cdc-0ca2-41f0-8853-a3e7cafe6d05",
   "metadata": {},
   "outputs": [],
   "source": [
    "test = pd.read_csv('test.csv')\n",
    "\n",
    "test['target'] = np.where(model.predict(test['text']) > 0.5, 1, 0)\n",
    "\n",
    "test[['id', 'target']].to_csv('submissions_nn.csv', index = False)"
   ]
  },
  {
   "cell_type": "code",
   "execution_count": null,
   "id": "637444bc-fdad-4915-8f62-3ceaab105ef2",
   "metadata": {},
   "outputs": [],
   "source": []
  }
 ],
 "metadata": {
  "kernelspec": {
   "display_name": "Python 3 (ipykernel)",
   "language": "python",
   "name": "python3"
  },
  "language_info": {
   "codemirror_mode": {
    "name": "ipython",
    "version": 3
   },
   "file_extension": ".py",
   "mimetype": "text/x-python",
   "name": "python",
   "nbconvert_exporter": "python",
   "pygments_lexer": "ipython3",
   "version": "3.9.7"
  }
 },
 "nbformat": 4,
 "nbformat_minor": 5
}
