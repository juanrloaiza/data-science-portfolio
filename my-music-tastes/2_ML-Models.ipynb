{
 "cells": [
  {
   "cell_type": "markdown",
   "id": "b1cf56b4-f7a3-416c-a726-531b3b3e3373",
   "metadata": {},
   "source": [
    "# Using ML to map the music I like\n",
    "\n",
    "Here we will use some ML models to try to disentagle the music I like. "
   ]
  },
  {
   "cell_type": "code",
   "execution_count": 1,
   "id": "4c7dbe90-d06f-4c3f-a1cc-653494127d2d",
   "metadata": {},
   "outputs": [],
   "source": [
    "import pandas as pd\n",
    "import numpy as np\n",
    "import seaborn as sns\n",
    "import matplotlib.pyplot as plt\n",
    "import matplotlib as mpl\n",
    "\n",
    "df = pd.read_csv('data.csv', index_col=0).dropna()\n",
    "\n",
    "mpl.rcParams['figure.dpi'] = 100\n",
    "plt.style.use('ggplot')"
   ]
  },
  {
   "cell_type": "code",
   "execution_count": 2,
   "id": "ad386102-018a-4ac1-bf64-74d83f67d3ad",
   "metadata": {},
   "outputs": [
    {
     "data": {
      "text/html": [
       "<div>\n",
       "<style scoped>\n",
       "    .dataframe tbody tr th:only-of-type {\n",
       "        vertical-align: middle;\n",
       "    }\n",
       "\n",
       "    .dataframe tbody tr th {\n",
       "        vertical-align: top;\n",
       "    }\n",
       "\n",
       "    .dataframe thead th {\n",
       "        text-align: right;\n",
       "    }\n",
       "</style>\n",
       "<table border=\"1\" class=\"dataframe\">\n",
       "  <thead>\n",
       "    <tr style=\"text-align: right;\">\n",
       "      <th></th>\n",
       "      <th>danceability</th>\n",
       "      <th>energy</th>\n",
       "      <th>key</th>\n",
       "      <th>loudness</th>\n",
       "      <th>speechiness</th>\n",
       "      <th>acousticness</th>\n",
       "      <th>instrumentalness</th>\n",
       "      <th>liveness</th>\n",
       "      <th>valence</th>\n",
       "      <th>tempo</th>\n",
       "      <th>time_signature</th>\n",
       "      <th>fav</th>\n",
       "    </tr>\n",
       "  </thead>\n",
       "  <tbody>\n",
       "    <tr>\n",
       "      <th>0</th>\n",
       "      <td>0.424</td>\n",
       "      <td>0.337</td>\n",
       "      <td>2.0</td>\n",
       "      <td>-11.554</td>\n",
       "      <td>0.0345</td>\n",
       "      <td>0.79800</td>\n",
       "      <td>0.620</td>\n",
       "      <td>0.114</td>\n",
       "      <td>0.108</td>\n",
       "      <td>119.901</td>\n",
       "      <td>4.0</td>\n",
       "      <td>fav</td>\n",
       "    </tr>\n",
       "    <tr>\n",
       "      <th>1</th>\n",
       "      <td>0.629</td>\n",
       "      <td>0.615</td>\n",
       "      <td>9.0</td>\n",
       "      <td>-7.732</td>\n",
       "      <td>0.0318</td>\n",
       "      <td>0.02900</td>\n",
       "      <td>0.259</td>\n",
       "      <td>0.189</td>\n",
       "      <td>0.452</td>\n",
       "      <td>129.977</td>\n",
       "      <td>4.0</td>\n",
       "      <td>fav</td>\n",
       "    </tr>\n",
       "    <tr>\n",
       "      <th>2</th>\n",
       "      <td>0.479</td>\n",
       "      <td>0.441</td>\n",
       "      <td>4.0</td>\n",
       "      <td>-8.938</td>\n",
       "      <td>0.0270</td>\n",
       "      <td>0.78500</td>\n",
       "      <td>0.126</td>\n",
       "      <td>0.110</td>\n",
       "      <td>0.110</td>\n",
       "      <td>103.002</td>\n",
       "      <td>4.0</td>\n",
       "      <td>fav</td>\n",
       "    </tr>\n",
       "    <tr>\n",
       "      <th>3</th>\n",
       "      <td>0.403</td>\n",
       "      <td>0.618</td>\n",
       "      <td>7.0</td>\n",
       "      <td>-7.978</td>\n",
       "      <td>0.0278</td>\n",
       "      <td>0.07320</td>\n",
       "      <td>0.587</td>\n",
       "      <td>0.279</td>\n",
       "      <td>0.220</td>\n",
       "      <td>133.113</td>\n",
       "      <td>4.0</td>\n",
       "      <td>fav</td>\n",
       "    </tr>\n",
       "    <tr>\n",
       "      <th>4</th>\n",
       "      <td>0.312</td>\n",
       "      <td>0.822</td>\n",
       "      <td>7.0</td>\n",
       "      <td>-4.759</td>\n",
       "      <td>0.0494</td>\n",
       "      <td>0.00018</td>\n",
       "      <td>0.679</td>\n",
       "      <td>0.214</td>\n",
       "      <td>0.266</td>\n",
       "      <td>148.926</td>\n",
       "      <td>4.0</td>\n",
       "      <td>fav</td>\n",
       "    </tr>\n",
       "  </tbody>\n",
       "</table>\n",
       "</div>"
      ],
      "text/plain": [
       "   danceability  energy  key  loudness  speechiness  acousticness  \\\n",
       "0         0.424   0.337  2.0   -11.554       0.0345       0.79800   \n",
       "1         0.629   0.615  9.0    -7.732       0.0318       0.02900   \n",
       "2         0.479   0.441  4.0    -8.938       0.0270       0.78500   \n",
       "3         0.403   0.618  7.0    -7.978       0.0278       0.07320   \n",
       "4         0.312   0.822  7.0    -4.759       0.0494       0.00018   \n",
       "\n",
       "   instrumentalness  liveness  valence    tempo  time_signature  fav  \n",
       "0             0.620     0.114    0.108  119.901             4.0  fav  \n",
       "1             0.259     0.189    0.452  129.977             4.0  fav  \n",
       "2             0.126     0.110    0.110  103.002             4.0  fav  \n",
       "3             0.587     0.279    0.220  133.113             4.0  fav  \n",
       "4             0.679     0.214    0.266  148.926             4.0  fav  "
      ]
     },
     "execution_count": 2,
     "metadata": {},
     "output_type": "execute_result"
    }
   ],
   "source": [
    "df.head()"
   ]
  },
  {
   "cell_type": "code",
   "execution_count": 3,
   "id": "f86b15a7-ee6d-416e-8b53-139e0a40d53f",
   "metadata": {},
   "outputs": [
    {
     "data": {
      "text/html": [
       "<div>\n",
       "<style scoped>\n",
       "    .dataframe tbody tr th:only-of-type {\n",
       "        vertical-align: middle;\n",
       "    }\n",
       "\n",
       "    .dataframe tbody tr th {\n",
       "        vertical-align: top;\n",
       "    }\n",
       "\n",
       "    .dataframe thead th {\n",
       "        text-align: right;\n",
       "    }\n",
       "</style>\n",
       "<table border=\"1\" class=\"dataframe\">\n",
       "  <thead>\n",
       "    <tr style=\"text-align: right;\">\n",
       "      <th></th>\n",
       "      <th>danceability</th>\n",
       "      <th>energy</th>\n",
       "      <th>key</th>\n",
       "      <th>loudness</th>\n",
       "      <th>speechiness</th>\n",
       "      <th>acousticness</th>\n",
       "      <th>instrumentalness</th>\n",
       "      <th>liveness</th>\n",
       "      <th>valence</th>\n",
       "      <th>tempo</th>\n",
       "      <th>time_signature</th>\n",
       "    </tr>\n",
       "  </thead>\n",
       "  <tbody>\n",
       "    <tr>\n",
       "      <th>count</th>\n",
       "      <td>2205.000000</td>\n",
       "      <td>2205.000000</td>\n",
       "      <td>2205.000000</td>\n",
       "      <td>2205.000000</td>\n",
       "      <td>2205.000000</td>\n",
       "      <td>2205.000000</td>\n",
       "      <td>2205.000000</td>\n",
       "      <td>2205.000000</td>\n",
       "      <td>2205.000000</td>\n",
       "      <td>2205.000000</td>\n",
       "      <td>2205.000000</td>\n",
       "    </tr>\n",
       "    <tr>\n",
       "      <th>mean</th>\n",
       "      <td>0.525770</td>\n",
       "      <td>0.677444</td>\n",
       "      <td>6.083447</td>\n",
       "      <td>-7.660554</td>\n",
       "      <td>0.059430</td>\n",
       "      <td>0.229697</td>\n",
       "      <td>0.211122</td>\n",
       "      <td>0.218116</td>\n",
       "      <td>0.441709</td>\n",
       "      <td>124.105972</td>\n",
       "      <td>3.904762</td>\n",
       "    </tr>\n",
       "    <tr>\n",
       "      <th>std</th>\n",
       "      <td>0.168148</td>\n",
       "      <td>0.219150</td>\n",
       "      <td>3.210029</td>\n",
       "      <td>3.814707</td>\n",
       "      <td>0.056697</td>\n",
       "      <td>0.293249</td>\n",
       "      <td>0.316159</td>\n",
       "      <td>0.208719</td>\n",
       "      <td>0.239138</td>\n",
       "      <td>27.066874</td>\n",
       "      <td>0.389285</td>\n",
       "    </tr>\n",
       "    <tr>\n",
       "      <th>min</th>\n",
       "      <td>0.074700</td>\n",
       "      <td>0.003790</td>\n",
       "      <td>1.000000</td>\n",
       "      <td>-31.414000</td>\n",
       "      <td>0.023200</td>\n",
       "      <td>0.000003</td>\n",
       "      <td>0.000001</td>\n",
       "      <td>0.021000</td>\n",
       "      <td>0.031300</td>\n",
       "      <td>40.068000</td>\n",
       "      <td>1.000000</td>\n",
       "    </tr>\n",
       "    <tr>\n",
       "      <th>25%</th>\n",
       "      <td>0.408000</td>\n",
       "      <td>0.544000</td>\n",
       "      <td>3.000000</td>\n",
       "      <td>-8.958000</td>\n",
       "      <td>0.032600</td>\n",
       "      <td>0.008210</td>\n",
       "      <td>0.000123</td>\n",
       "      <td>0.096000</td>\n",
       "      <td>0.240000</td>\n",
       "      <td>105.017000</td>\n",
       "      <td>4.000000</td>\n",
       "    </tr>\n",
       "    <tr>\n",
       "      <th>50%</th>\n",
       "      <td>0.529000</td>\n",
       "      <td>0.725000</td>\n",
       "      <td>6.000000</td>\n",
       "      <td>-6.809000</td>\n",
       "      <td>0.040500</td>\n",
       "      <td>0.073600</td>\n",
       "      <td>0.008350</td>\n",
       "      <td>0.124000</td>\n",
       "      <td>0.425000</td>\n",
       "      <td>124.080000</td>\n",
       "      <td>4.000000</td>\n",
       "    </tr>\n",
       "    <tr>\n",
       "      <th>75%</th>\n",
       "      <td>0.645000</td>\n",
       "      <td>0.853000</td>\n",
       "      <td>9.000000</td>\n",
       "      <td>-5.272000</td>\n",
       "      <td>0.059800</td>\n",
       "      <td>0.366000</td>\n",
       "      <td>0.398000</td>\n",
       "      <td>0.269000</td>\n",
       "      <td>0.628000</td>\n",
       "      <td>140.231000</td>\n",
       "      <td>4.000000</td>\n",
       "    </tr>\n",
       "    <tr>\n",
       "      <th>max</th>\n",
       "      <td>0.965000</td>\n",
       "      <td>0.995000</td>\n",
       "      <td>11.000000</td>\n",
       "      <td>-1.131000</td>\n",
       "      <td>0.856000</td>\n",
       "      <td>0.996000</td>\n",
       "      <td>0.993000</td>\n",
       "      <td>0.985000</td>\n",
       "      <td>0.978000</td>\n",
       "      <td>205.570000</td>\n",
       "      <td>5.000000</td>\n",
       "    </tr>\n",
       "  </tbody>\n",
       "</table>\n",
       "</div>"
      ],
      "text/plain": [
       "       danceability       energy          key     loudness  speechiness  \\\n",
       "count   2205.000000  2205.000000  2205.000000  2205.000000  2205.000000   \n",
       "mean       0.525770     0.677444     6.083447    -7.660554     0.059430   \n",
       "std        0.168148     0.219150     3.210029     3.814707     0.056697   \n",
       "min        0.074700     0.003790     1.000000   -31.414000     0.023200   \n",
       "25%        0.408000     0.544000     3.000000    -8.958000     0.032600   \n",
       "50%        0.529000     0.725000     6.000000    -6.809000     0.040500   \n",
       "75%        0.645000     0.853000     9.000000    -5.272000     0.059800   \n",
       "max        0.965000     0.995000    11.000000    -1.131000     0.856000   \n",
       "\n",
       "       acousticness  instrumentalness     liveness      valence        tempo  \\\n",
       "count   2205.000000       2205.000000  2205.000000  2205.000000  2205.000000   \n",
       "mean       0.229697          0.211122     0.218116     0.441709   124.105972   \n",
       "std        0.293249          0.316159     0.208719     0.239138    27.066874   \n",
       "min        0.000003          0.000001     0.021000     0.031300    40.068000   \n",
       "25%        0.008210          0.000123     0.096000     0.240000   105.017000   \n",
       "50%        0.073600          0.008350     0.124000     0.425000   124.080000   \n",
       "75%        0.366000          0.398000     0.269000     0.628000   140.231000   \n",
       "max        0.996000          0.993000     0.985000     0.978000   205.570000   \n",
       "\n",
       "       time_signature  \n",
       "count     2205.000000  \n",
       "mean         3.904762  \n",
       "std          0.389285  \n",
       "min          1.000000  \n",
       "25%          4.000000  \n",
       "50%          4.000000  \n",
       "75%          4.000000  \n",
       "max          5.000000  "
      ]
     },
     "execution_count": 3,
     "metadata": {},
     "output_type": "execute_result"
    }
   ],
   "source": [
    "df.describe()"
   ]
  },
  {
   "cell_type": "code",
   "execution_count": 4,
   "id": "618176e3-6e27-46dd-9447-36a373cb2022",
   "metadata": {},
   "outputs": [
    {
     "data": {
      "text/html": [
       "<div>\n",
       "<style scoped>\n",
       "    .dataframe tbody tr th:only-of-type {\n",
       "        vertical-align: middle;\n",
       "    }\n",
       "\n",
       "    .dataframe tbody tr th {\n",
       "        vertical-align: top;\n",
       "    }\n",
       "\n",
       "    .dataframe thead tr th {\n",
       "        text-align: left;\n",
       "    }\n",
       "\n",
       "    .dataframe thead tr:last-of-type th {\n",
       "        text-align: right;\n",
       "    }\n",
       "</style>\n",
       "<table border=\"1\" class=\"dataframe\">\n",
       "  <thead>\n",
       "    <tr>\n",
       "      <th></th>\n",
       "      <th colspan=\"8\" halign=\"left\">danceability</th>\n",
       "      <th colspan=\"2\" halign=\"left\">energy</th>\n",
       "      <th>...</th>\n",
       "      <th colspan=\"2\" halign=\"left\">tempo</th>\n",
       "      <th colspan=\"8\" halign=\"left\">time_signature</th>\n",
       "    </tr>\n",
       "    <tr>\n",
       "      <th></th>\n",
       "      <th>count</th>\n",
       "      <th>mean</th>\n",
       "      <th>std</th>\n",
       "      <th>min</th>\n",
       "      <th>25%</th>\n",
       "      <th>50%</th>\n",
       "      <th>75%</th>\n",
       "      <th>max</th>\n",
       "      <th>count</th>\n",
       "      <th>mean</th>\n",
       "      <th>...</th>\n",
       "      <th>75%</th>\n",
       "      <th>max</th>\n",
       "      <th>count</th>\n",
       "      <th>mean</th>\n",
       "      <th>std</th>\n",
       "      <th>min</th>\n",
       "      <th>25%</th>\n",
       "      <th>50%</th>\n",
       "      <th>75%</th>\n",
       "      <th>max</th>\n",
       "    </tr>\n",
       "    <tr>\n",
       "      <th>fav</th>\n",
       "      <th></th>\n",
       "      <th></th>\n",
       "      <th></th>\n",
       "      <th></th>\n",
       "      <th></th>\n",
       "      <th></th>\n",
       "      <th></th>\n",
       "      <th></th>\n",
       "      <th></th>\n",
       "      <th></th>\n",
       "      <th></th>\n",
       "      <th></th>\n",
       "      <th></th>\n",
       "      <th></th>\n",
       "      <th></th>\n",
       "      <th></th>\n",
       "      <th></th>\n",
       "      <th></th>\n",
       "      <th></th>\n",
       "      <th></th>\n",
       "      <th></th>\n",
       "    </tr>\n",
       "  </thead>\n",
       "  <tbody>\n",
       "    <tr>\n",
       "      <th>both</th>\n",
       "      <td>2.0</td>\n",
       "      <td>0.619500</td>\n",
       "      <td>0.101116</td>\n",
       "      <td>0.5480</td>\n",
       "      <td>0.58375</td>\n",
       "      <td>0.6195</td>\n",
       "      <td>0.65525</td>\n",
       "      <td>0.691</td>\n",
       "      <td>2.0</td>\n",
       "      <td>0.581500</td>\n",
       "      <td>...</td>\n",
       "      <td>90.2605</td>\n",
       "      <td>92.004</td>\n",
       "      <td>2.0</td>\n",
       "      <td>4.000000</td>\n",
       "      <td>0.000000</td>\n",
       "      <td>4.0</td>\n",
       "      <td>4.0</td>\n",
       "      <td>4.0</td>\n",
       "      <td>4.0</td>\n",
       "      <td>4.0</td>\n",
       "    </tr>\n",
       "    <tr>\n",
       "      <th>fav</th>\n",
       "      <td>1469.0</td>\n",
       "      <td>0.470368</td>\n",
       "      <td>0.149567</td>\n",
       "      <td>0.0747</td>\n",
       "      <td>0.36400</td>\n",
       "      <td>0.4780</td>\n",
       "      <td>0.57300</td>\n",
       "      <td>0.950</td>\n",
       "      <td>1469.0</td>\n",
       "      <td>0.673438</td>\n",
       "      <td>...</td>\n",
       "      <td>144.4900</td>\n",
       "      <td>204.629</td>\n",
       "      <td>1469.0</td>\n",
       "      <td>3.876787</td>\n",
       "      <td>0.443465</td>\n",
       "      <td>1.0</td>\n",
       "      <td>4.0</td>\n",
       "      <td>4.0</td>\n",
       "      <td>4.0</td>\n",
       "      <td>5.0</td>\n",
       "    </tr>\n",
       "    <tr>\n",
       "      <th>not fav</th>\n",
       "      <td>734.0</td>\n",
       "      <td>0.636394</td>\n",
       "      <td>0.147543</td>\n",
       "      <td>0.1490</td>\n",
       "      <td>0.54500</td>\n",
       "      <td>0.6585</td>\n",
       "      <td>0.74675</td>\n",
       "      <td>0.965</td>\n",
       "      <td>734.0</td>\n",
       "      <td>0.685723</td>\n",
       "      <td>...</td>\n",
       "      <td>134.9645</td>\n",
       "      <td>205.570</td>\n",
       "      <td>734.0</td>\n",
       "      <td>3.960490</td>\n",
       "      <td>0.238956</td>\n",
       "      <td>1.0</td>\n",
       "      <td>4.0</td>\n",
       "      <td>4.0</td>\n",
       "      <td>4.0</td>\n",
       "      <td>5.0</td>\n",
       "    </tr>\n",
       "  </tbody>\n",
       "</table>\n",
       "<p>3 rows × 88 columns</p>\n",
       "</div>"
      ],
      "text/plain": [
       "        danceability                                                        \\\n",
       "               count      mean       std     min      25%     50%      75%   \n",
       "fav                                                                          \n",
       "both             2.0  0.619500  0.101116  0.5480  0.58375  0.6195  0.65525   \n",
       "fav           1469.0  0.470368  0.149567  0.0747  0.36400  0.4780  0.57300   \n",
       "not fav        734.0  0.636394  0.147543  0.1490  0.54500  0.6585  0.74675   \n",
       "\n",
       "                energy            ...     tempo          time_signature  \\\n",
       "           max   count      mean  ...       75%      max          count   \n",
       "fav                               ...                                     \n",
       "both     0.691     2.0  0.581500  ...   90.2605   92.004            2.0   \n",
       "fav      0.950  1469.0  0.673438  ...  144.4900  204.629         1469.0   \n",
       "not fav  0.965   734.0  0.685723  ...  134.9645  205.570          734.0   \n",
       "\n",
       "                                                      \n",
       "             mean       std  min  25%  50%  75%  max  \n",
       "fav                                                   \n",
       "both     4.000000  0.000000  4.0  4.0  4.0  4.0  4.0  \n",
       "fav      3.876787  0.443465  1.0  4.0  4.0  4.0  5.0  \n",
       "not fav  3.960490  0.238956  1.0  4.0  4.0  4.0  5.0  \n",
       "\n",
       "[3 rows x 88 columns]"
      ]
     },
     "execution_count": 4,
     "metadata": {},
     "output_type": "execute_result"
    }
   ],
   "source": [
    "df.groupby('fav').describe()"
   ]
  },
  {
   "cell_type": "code",
   "execution_count": 5,
   "id": "3b80ea5d-8853-4f16-a40a-e40004c480fa",
   "metadata": {},
   "outputs": [],
   "source": [
    "X = df[[col for col in df.columns if col != 'fav']]\n",
    "y = np.where(df['fav'] == 'fav', 1, 0)\n",
    "\n",
    "features = pd.Series([col for col in df.columns if col != 'fav'])"
   ]
  },
  {
   "cell_type": "code",
   "execution_count": 6,
   "id": "3392b0a2-13c0-4b0f-bb98-4f34d6ab41fd",
   "metadata": {},
   "outputs": [],
   "source": [
    "from sklearn.preprocessing import StandardScaler\n",
    "\n",
    "scaler = StandardScaler()\n",
    "\n",
    "X = scaler.fit_transform(X)"
   ]
  },
  {
   "cell_type": "code",
   "execution_count": 7,
   "id": "72f52f14-83eb-458e-a608-2c67e2a59043",
   "metadata": {},
   "outputs": [],
   "source": [
    "from sklearn.model_selection import train_test_split\n",
    "\n",
    "X_train, X_test, y_train, y_test = train_test_split(X, y)"
   ]
  },
  {
   "cell_type": "code",
   "execution_count": 8,
   "id": "11d494f9-552a-46ea-9b5b-4de6304d40b1",
   "metadata": {},
   "outputs": [],
   "source": [
    "from sklearn.metrics import f1_score"
   ]
  },
  {
   "cell_type": "markdown",
   "id": "96781f2c-b9d6-4603-9458-c397818154c3",
   "metadata": {
    "tags": []
   },
   "source": [
    "## 1. Logistic Regression"
   ]
  },
  {
   "cell_type": "code",
   "execution_count": 9,
   "id": "9db73cdb-2fb5-475b-b5da-0cb0227ae22d",
   "metadata": {},
   "outputs": [],
   "source": [
    "from sklearn.linear_model import LogisticRegression"
   ]
  },
  {
   "cell_type": "code",
   "execution_count": 10,
   "id": "1e0df319-6eac-4573-85b6-09cac1e15e96",
   "metadata": {},
   "outputs": [
    {
     "data": {
      "text/plain": [
       "0.8513513513513513"
      ]
     },
     "execution_count": 10,
     "metadata": {},
     "output_type": "execute_result"
    }
   ],
   "source": [
    "model = LogisticRegression(random_state=28)\n",
    "\n",
    "model.fit(X_train, y_train)\n",
    "\n",
    "y_pred = model.predict(X_test)\n",
    "\n",
    "f1_score(y_test, y_pred)"
   ]
  },
  {
   "cell_type": "code",
   "execution_count": 11,
   "id": "1fa2e805-8785-4b60-a001-85cc64918c32",
   "metadata": {},
   "outputs": [
    {
     "name": "stdout",
     "output_type": "stream",
     "text": [
      "Best parameters: {'C': 0.1}\n",
      "Best score: 0.8617924829511822\n"
     ]
    }
   ],
   "source": [
    "from sklearn.model_selection import GridSearchCV\n",
    "\n",
    "params = {'C': [0.01, 0.1, 1, 10, 100]}\n",
    "\n",
    "clf = GridSearchCV(LogisticRegression(random_state=28), param_grid=params, scoring=\"f1\")\n",
    "\n",
    "clf.fit(X_train, y_train)\n",
    "\n",
    "print(f\"Best parameters: {clf.best_params_}\")\n",
    "print(f\"Best score: {clf.best_score_}\")\n",
    "\n",
    "model = clf.best_estimator_"
   ]
  },
  {
   "cell_type": "markdown",
   "id": "5b594098-b771-486c-a34e-21d909aa24eb",
   "metadata": {},
   "source": [
    "### Which features matter most?"
   ]
  },
  {
   "cell_type": "code",
   "execution_count": 12,
   "id": "8a4cb6b0-aefb-4be9-ac7f-fa40c5f127a3",
   "metadata": {},
   "outputs": [
    {
     "data": {
      "text/plain": [
       "SelectFromModel(estimator=LogisticRegression(C=0.1, random_state=28))"
      ]
     },
     "execution_count": 12,
     "metadata": {},
     "output_type": "execute_result"
    }
   ],
   "source": [
    "from sklearn.feature_selection import SelectFromModel\n",
    "\n",
    "selector = SelectFromModel(model)\n",
    "\n",
    "selector.fit(X_train, y_train)"
   ]
  },
  {
   "cell_type": "code",
   "execution_count": 13,
   "id": "de11b927-9d30-4553-815d-9046bc40793e",
   "metadata": {},
   "outputs": [
    {
     "data": {
      "text/plain": [
       "0        danceability\n",
       "1              energy\n",
       "3            loudness\n",
       "6    instrumentalness\n",
       "dtype: object"
      ]
     },
     "execution_count": 13,
     "metadata": {},
     "output_type": "execute_result"
    }
   ],
   "source": [
    "best_features = features[selector.get_support()]\n",
    "best_features"
   ]
  },
  {
   "cell_type": "code",
   "execution_count": 44,
   "id": "1c865ffd-6551-4c95-ad1a-efe545acd4d6",
   "metadata": {},
   "outputs": [
    {
     "data": {
      "text/plain": [
       "<AxesSubplot:xlabel='instrumentalness', ylabel='Count'>"
      ]
     },
     "execution_count": 44,
     "metadata": {},
     "output_type": "execute_result"
    },
    {
     "data": {
      "image/png": "[encoded data removed]",
      "text/plain": [
       "<Figure size 700x700 with 4 Axes>"
      ]
     },
     "metadata": {},
     "output_type": "display_data"
    }
   ],
   "source": [
    "fig, axs = plt.subplots(2, 2, figsize = (7, 7))\n",
    "\n",
    "sns.histplot(data = df, x = best_features[0], hue = 'fav', ax = axs[0][0])\n",
    "sns.histplot(data = df, x = best_features[1], hue = 'fav', ax = axs[0][1])\n",
    "sns.histplot(data = df, x = best_features[3], hue = 'fav', ax = axs[1][0])\n",
    "sns.histplot(data = df, x = best_features[6], hue = 'fav', ax = axs[1][1])"
   ]
  },
  {
   "cell_type": "markdown",
   "id": "5f6ac627-daf9-4ad5-98e6-5bb77366708f",
   "metadata": {
    "tags": []
   },
   "source": [
    "## 2. Gaussian Naive Bayes"
   ]
  },
  {
   "cell_type": "code",
   "execution_count": 15,
   "id": "1fa8a58b-3f7a-47e8-9f46-662e45cd7dd1",
   "metadata": {},
   "outputs": [],
   "source": [
    "from sklearn.naive_bayes import GaussianNB"
   ]
  },
  {
   "cell_type": "code",
   "execution_count": 16,
   "id": "efea7a41-a6a6-41b3-abfa-1231823fec1e",
   "metadata": {},
   "outputs": [
    {
     "data": {
      "text/plain": [
       "0.7310126582278481"
      ]
     },
     "execution_count": 16,
     "metadata": {},
     "output_type": "execute_result"
    }
   ],
   "source": [
    "model = GaussianNB()\n",
    "\n",
    "model.fit(X_train, y_train)\n",
    "\n",
    "y_pred = model.predict(X_test)\n",
    "\n",
    "f1_score(y_test, y_pred)"
   ]
  },
  {
   "cell_type": "markdown",
   "id": "cdfb7ce2-8a7c-4c81-9f4d-09726b52aa8e",
   "metadata": {
    "tags": []
   },
   "source": [
    "## 3. Decision Tree"
   ]
  },
  {
   "cell_type": "code",
   "execution_count": 17,
   "id": "5a9b3c3c-da2c-4b7e-be9f-fdcb5a1e57ee",
   "metadata": {},
   "outputs": [],
   "source": [
    "from sklearn.tree import DecisionTreeClassifier"
   ]
  },
  {
   "cell_type": "code",
   "execution_count": 18,
   "id": "c8b410c0-be5e-47da-aaf2-5d97c826aac2",
   "metadata": {},
   "outputs": [
    {
     "data": {
      "text/plain": [
       "0.8859416445623343"
      ]
     },
     "execution_count": 18,
     "metadata": {},
     "output_type": "execute_result"
    }
   ],
   "source": [
    "model = DecisionTreeClassifier(random_state=28)\n",
    "\n",
    "model.fit(X_train, y_train)\n",
    "\n",
    "y_pred = model.predict(X_test)\n",
    "\n",
    "f1_score(y_test, y_pred)"
   ]
  },
  {
   "cell_type": "code",
   "execution_count": 19,
   "id": "87ade222-ccfa-4f7f-85a5-4c5ef88a8d36",
   "metadata": {},
   "outputs": [
    {
     "name": "stdout",
     "output_type": "stream",
     "text": [
      "Best parameters: {'min_samples_leaf': 7, 'min_samples_split': 2}\n",
      "Best score: 0.8692994378149178\n"
     ]
    }
   ],
   "source": [
    "params = {'min_samples_split': [x for x in range(2, 10)],\n",
    "          'min_samples_leaf': [x for x in range(1, 10)]}\n",
    "\n",
    "clf = GridSearchCV(DecisionTreeClassifier(random_state=28), param_grid=params, scoring = \"f1\")\n",
    "\n",
    "clf.fit(X_train, y_train)\n",
    "\n",
    "print(f\"Best parameters: {clf.best_params_}\")\n",
    "print(f\"Best score: {clf.best_score_}\")\n",
    "\n",
    "model = clf.best_estimator_"
   ]
  },
  {
   "cell_type": "markdown",
   "id": "4c1e12cb-7556-4cae-b4c3-ebbf7bae085d",
   "metadata": {},
   "source": [
    "### Which features matter most?"
   ]
  },
  {
   "cell_type": "code",
   "execution_count": 20,
   "id": "4bf7b5b0-97c3-4504-95bc-dc14b120858c",
   "metadata": {},
   "outputs": [
    {
     "data": {
      "text/plain": [
       "SelectFromModel(estimator=DecisionTreeClassifier(min_samples_leaf=7,\n",
       "                                                 random_state=28))"
      ]
     },
     "execution_count": 20,
     "metadata": {},
     "output_type": "execute_result"
    }
   ],
   "source": [
    "from sklearn.feature_selection import SelectFromModel\n",
    "\n",
    "selector = SelectFromModel(model)\n",
    "\n",
    "selector.fit(X_train, y_train)"
   ]
  },
  {
   "cell_type": "code",
   "execution_count": 21,
   "id": "fdb8222d-80c6-426e-a919-d568c2a575ab",
   "metadata": {},
   "outputs": [
    {
     "data": {
      "text/plain": [
       "0        danceability\n",
       "6    instrumentalness\n",
       "dtype: object"
      ]
     },
     "execution_count": 21,
     "metadata": {},
     "output_type": "execute_result"
    }
   ],
   "source": [
    "best_features = features[selector.get_support()]\n",
    "best_features"
   ]
  },
  {
   "cell_type": "code",
   "execution_count": 22,
   "id": "f70bdabb-f321-4f43-804c-387934132e99",
   "metadata": {},
   "outputs": [
    {
     "data": {
      "text/plain": [
       "<AxesSubplot:xlabel='instrumentalness', ylabel='Count'>"
      ]
     },
     "execution_count": 22,
     "metadata": {},
     "output_type": "execute_result"
    },
    {
     "data": {
      "image/png": "[encoded data removed]",
      "text/plain": [
       "<Figure size 1000x400 with 2 Axes>"
      ]
     },
     "metadata": {},
     "output_type": "display_data"
    }
   ],
   "source": [
    "fig, axs = plt.subplots(1, 2, figsize = (10, 4))\n",
    "\n",
    "sns.histplot(data = df, x = best_features[0], hue = 'fav', ax = axs[0])\n",
    "sns.histplot(data = df, x = best_features[6], hue = 'fav', ax = axs[1])"
   ]
  },
  {
   "cell_type": "markdown",
   "id": "a1644cd3-46b9-4ba9-b4de-40570d2815c2",
   "metadata": {
    "tags": []
   },
   "source": [
    "## 4. Random Forest"
   ]
  },
  {
   "cell_type": "code",
   "execution_count": 23,
   "id": "03fb7096-a650-47f8-a918-8bcc311a3bcc",
   "metadata": {},
   "outputs": [],
   "source": [
    "from sklearn.ensemble import RandomForestClassifier"
   ]
  },
  {
   "cell_type": "code",
   "execution_count": 24,
   "id": "439b8745-f454-4477-b2e2-95c246b779c6",
   "metadata": {},
   "outputs": [
    {
     "data": {
      "text/plain": [
       "0.9174311926605504"
      ]
     },
     "execution_count": 24,
     "metadata": {},
     "output_type": "execute_result"
    }
   ],
   "source": [
    "model = RandomForestClassifier(random_state=28)\n",
    "\n",
    "model.fit(X_train, y_train)\n",
    "\n",
    "y_pred = model.predict(X_test)\n",
    "\n",
    "f1_score(y_test, y_pred)"
   ]
  },
  {
   "cell_type": "code",
   "execution_count": 25,
   "id": "e11baf6e-8403-42ca-9661-037ee6d60352",
   "metadata": {},
   "outputs": [
    {
     "name": "stdout",
     "output_type": "stream",
     "text": [
      "Best parameters: {'min_samples_leaf': 1, 'min_samples_split': 4, 'n_estimators': 300}\n",
      "Best score: 0.9111980406405081\n"
     ]
    }
   ],
   "source": [
    "params = {'n_estimators': [10, 100, 200, 300],\n",
    "          'min_samples_split': [x for x in range(2, 10)],\n",
    "          'min_samples_leaf': [x for x in range(1, 10)]}\n",
    "\n",
    "clf = GridSearchCV(RandomForestClassifier(random_state=28), param_grid=params, scoring = \"f1\")\n",
    "\n",
    "clf.fit(X_train, y_train)\n",
    "\n",
    "print(f\"Best parameters: {clf.best_params_}\")\n",
    "print(f\"Best score: {clf.best_score_}\")\n",
    "\n",
    "model = clf.best_estimator_"
   ]
  },
  {
   "cell_type": "markdown",
   "id": "c8cdde3f-959c-4716-aaf2-f1eb2277be4b",
   "metadata": {
    "tags": []
   },
   "source": [
    "### Which features matter most?"
   ]
  },
  {
   "cell_type": "code",
   "execution_count": 26,
   "id": "9a4de8a9-e941-474b-ad68-793b51b13a88",
   "metadata": {},
   "outputs": [
    {
     "data": {
      "text/plain": [
       "SelectFromModel(estimator=RandomForestClassifier(min_samples_split=4,\n",
       "                                                 n_estimators=300,\n",
       "                                                 random_state=28))"
      ]
     },
     "execution_count": 26,
     "metadata": {},
     "output_type": "execute_result"
    }
   ],
   "source": [
    "from sklearn.feature_selection import SelectFromModel\n",
    "\n",
    "selector = SelectFromModel(model)\n",
    "\n",
    "selector.fit(X_train, y_train)"
   ]
  },
  {
   "cell_type": "code",
   "execution_count": 27,
   "id": "672ed706-e771-4fa8-b4d3-c5701645b843",
   "metadata": {},
   "outputs": [
    {
     "data": {
      "text/plain": [
       "0        danceability\n",
       "6    instrumentalness\n",
       "dtype: object"
      ]
     },
     "execution_count": 27,
     "metadata": {},
     "output_type": "execute_result"
    }
   ],
   "source": [
    "best_features = features[selector.get_support()]\n",
    "best_features"
   ]
  },
  {
   "cell_type": "code",
   "execution_count": 28,
   "id": "5489a35e-8b50-401c-976c-aa1879140f7d",
   "metadata": {},
   "outputs": [
    {
     "data": {
      "text/plain": [
       "<AxesSubplot:xlabel='instrumentalness', ylabel='Count'>"
      ]
     },
     "execution_count": 28,
     "metadata": {},
     "output_type": "execute_result"
    },
    {
     "data": {
      "image/png": "[encoded data removed]",
      "text/plain": [
       "<Figure size 1000x400 with 2 Axes>"
      ]
     },
     "metadata": {},
     "output_type": "display_data"
    }
   ],
   "source": [
    "fig, axs = plt.subplots(1, 2, figsize = (10, 4))\n",
    "\n",
    "sns.histplot(data = df, x = best_features[0], hue = 'fav', ax = axs[0])\n",
    "sns.histplot(data = df, x = best_features[6], hue = 'fav', ax = axs[1])"
   ]
  },
  {
   "cell_type": "markdown",
   "id": "0ae4e91b-a879-45c7-8bb2-b0d50eea5d37",
   "metadata": {
    "tags": []
   },
   "source": [
    "## 5. SVM"
   ]
  },
  {
   "cell_type": "code",
   "execution_count": 29,
   "id": "af6b169d-c9f4-40f2-a234-31487ce910f3",
   "metadata": {},
   "outputs": [],
   "source": [
    "from sklearn.svm import SVC"
   ]
  },
  {
   "cell_type": "code",
   "execution_count": 30,
   "id": "2e3e1da8-375a-410e-bbc3-77813354a004",
   "metadata": {},
   "outputs": [
    {
     "data": {
      "text/plain": [
       "0.8859416445623343"
      ]
     },
     "execution_count": 30,
     "metadata": {},
     "output_type": "execute_result"
    }
   ],
   "source": [
    "model = SVC(random_state=28)\n",
    "\n",
    "model.fit(X_train, y_train)\n",
    "\n",
    "y_pred = model.predict(X_test)\n",
    "\n",
    "f1_score(y_test, y_pred)"
   ]
  },
  {
   "cell_type": "code",
   "execution_count": 31,
   "id": "7aa257cd-8732-4ab6-af84-5b0a7a65ef42",
   "metadata": {},
   "outputs": [
    {
     "name": "stdout",
     "output_type": "stream",
     "text": [
      "Best parameters: {'C': 1, 'kernel': 'linear'}\n",
      "Best score: 0.8638162641307812\n"
     ]
    }
   ],
   "source": [
    "params = {'C': [0.001, 0.01, 0.1, 1],\n",
    "          'kernel': ['linear', 'sigmoid']}\n",
    "\n",
    "clf = GridSearchCV(SVC(random_state=28), param_grid=params, scoring = \"f1\")\n",
    "\n",
    "clf.fit(X_train, y_train)\n",
    "\n",
    "print(f\"Best parameters: {clf.best_params_}\")\n",
    "print(f\"Best score: {clf.best_score_}\")\n",
    "\n",
    "model = clf.best_estimator_"
   ]
  },
  {
   "cell_type": "markdown",
   "id": "ca10cee8-7bfb-41f5-b997-04ebcd19b7bd",
   "metadata": {},
   "source": [
    "### Which features matter most?"
   ]
  },
  {
   "cell_type": "code",
   "execution_count": 32,
   "id": "3f96b853-da43-4147-9fb6-2c7f6c3dd175",
   "metadata": {},
   "outputs": [
    {
     "data": {
      "text/plain": [
       "SelectFromModel(estimator=SVC(C=1, kernel='linear', random_state=28))"
      ]
     },
     "execution_count": 32,
     "metadata": {},
     "output_type": "execute_result"
    }
   ],
   "source": [
    "from sklearn.feature_selection import SelectFromModel\n",
    "\n",
    "selector = SelectFromModel(model)\n",
    "\n",
    "selector.fit(X_train, y_train)"
   ]
  },
  {
   "cell_type": "code",
   "execution_count": 33,
   "id": "30766855-ca28-46c9-bd59-a47beb2c11a2",
   "metadata": {},
   "outputs": [
    {
     "data": {
      "text/plain": [
       "0        danceability\n",
       "1              energy\n",
       "3            loudness\n",
       "6    instrumentalness\n",
       "dtype: object"
      ]
     },
     "execution_count": 33,
     "metadata": {},
     "output_type": "execute_result"
    }
   ],
   "source": [
    "best_features = features[selector.get_support()]\n",
    "best_features"
   ]
  },
  {
   "cell_type": "code",
   "execution_count": 34,
   "id": "4b4ad4ef-ae65-4a99-8fd2-a7cdd5fb933e",
   "metadata": {},
   "outputs": [
    {
     "data": {
      "text/plain": [
       "<AxesSubplot:xlabel='instrumentalness', ylabel='Count'>"
      ]
     },
     "execution_count": 34,
     "metadata": {},
     "output_type": "execute_result"
    },
    {
     "data": {
      "image/png": "[encoded data removed]",
      "text/plain": [
       "<Figure size 1000x400 with 2 Axes>"
      ]
     },
     "metadata": {},
     "output_type": "display_data"
    }
   ],
   "source": [
    "fig, axs = plt.subplots(1, 2, figsize = (10, 4))\n",
    "\n",
    "sns.histplot(data = df, x = best_features[0], hue = 'fav', ax = axs[0])\n",
    "sns.histplot(data = df, x = best_features[6], hue = 'fav', ax = axs[1])"
   ]
  },
  {
   "cell_type": "markdown",
   "id": "63ad897a-f64c-474a-99ca-624808ababfb",
   "metadata": {
    "tags": []
   },
   "source": [
    "## 6. K Nearest Neighbors"
   ]
  },
  {
   "cell_type": "code",
   "execution_count": 35,
   "id": "763ae271-8a1b-4677-aced-c75124129c35",
   "metadata": {},
   "outputs": [],
   "source": [
    "from sklearn.neighbors import KNeighborsClassifier"
   ]
  },
  {
   "cell_type": "code",
   "execution_count": 36,
   "id": "ca9551bf-ab24-4ba6-b854-ce21c58a5301",
   "metadata": {},
   "outputs": [
    {
     "data": {
      "text/plain": [
       "0.8797886393659181"
      ]
     },
     "execution_count": 36,
     "metadata": {},
     "output_type": "execute_result"
    }
   ],
   "source": [
    "model = KNeighborsClassifier()\n",
    "\n",
    "model.fit(X_train, y_train)\n",
    "\n",
    "y_pred = model.predict(X_test)\n",
    "\n",
    "f1_score(y_test, y_pred)"
   ]
  },
  {
   "cell_type": "code",
   "execution_count": 42,
   "id": "2e4bddc7-a900-4830-a203-237161582b90",
   "metadata": {},
   "outputs": [
    {
     "name": "stdout",
     "output_type": "stream",
     "text": [
      "Best parameters: {'n_neighbors': 23}\n",
      "Best score: 0.8671602476087121\n"
     ]
    }
   ],
   "source": [
    "params = {'n_neighbors': [x for x in range(5, 30)]}\n",
    "\n",
    "clf = GridSearchCV(KNeighborsClassifier(), param_grid=params, scoring = \"f1\")\n",
    "\n",
    "clf.fit(X_train, y_train)\n",
    "\n",
    "print(f\"Best parameters: {clf.best_params_}\")\n",
    "print(f\"Best score: {clf.best_score_}\")\n",
    "\n",
    "model = clf.best_estimator_"
   ]
  }
 ],
 "metadata": {
  "kernelspec": {
   "display_name": "Python 3 (ipykernel)",
   "language": "python",
   "name": "python3"
  },
  "language_info": {
   "codemirror_mode": {
    "name": "ipython",
    "version": 3
   },
   "file_extension": ".py",
   "mimetype": "text/x-python",
   "name": "python",
   "nbconvert_exporter": "python",
   "pygments_lexer": "ipython3",
   "version": "3.9.7"
  }
 },
 "nbformat": 4,
 "nbformat_minor": 5
}
